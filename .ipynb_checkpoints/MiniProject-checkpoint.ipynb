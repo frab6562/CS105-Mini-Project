{
 "cells": [
  {
   "cell_type": "markdown",
   "metadata": {
    "colab_type": "text",
    "id": "__1JBcfGnOHj",
    "tags": []
   },
   "source": [
    "# Mini Project: Brand Loyalty and Location\n",
    "\n",
    "In this project we are using data models and tests to seeif brand loyalty and location are correlated. \n"
   ]
  },
  {
   "cell_type": "code",
   "execution_count": 18,
   "metadata": {},
   "outputs": [
    {
     "data": {
      "text/html": [
       "<div>\n",
       "<style scoped>\n",
       "    .dataframe tbody tr th:only-of-type {\n",
       "        vertical-align: middle;\n",
       "    }\n",
       "\n",
       "    .dataframe tbody tr th {\n",
       "        vertical-align: top;\n",
       "    }\n",
       "\n",
       "    .dataframe thead th {\n",
       "        text-align: right;\n",
       "    }\n",
       "</style>\n",
       "<table border=\"1\" class=\"dataframe\">\n",
       "  <thead>\n",
       "    <tr style=\"text-align: right;\">\n",
       "      <th></th>\n",
       "      <th>Timestamp</th>\n",
       "      <th>1. What is your last name initial? Please select the appropriate range. \\n\\n(Ex: Smith = Option 3)</th>\n",
       "      <th>2. What is your age?</th>\n",
       "      <th>3. What gender do you identify as?</th>\n",
       "      <th>4. What is your approximate height? (Ex: 5'0\" - 5'5\")</th>\n",
       "      <th>5. Do you wear prescription glasses or contacts?</th>\n",
       "      <th>6. How would you best describe yourself?</th>\n",
       "      <th>7. What generation immigrant are you?</th>\n",
       "      <th>8. How many siblings do you have?</th>\n",
       "      <th>9. What birth order are you? (1 being the oldest)</th>\n",
       "      <th>...</th>\n",
       "      <th>108. If you answered the previous question, how many years of experience do you have?</th>\n",
       "      <th>Shoe</th>\n",
       "      <th>110. What is your preferred fast food restaurant?</th>\n",
       "      <th>111. What is your preferred phone brand?</th>\n",
       "      <th>112. What is your preferred soda?</th>\n",
       "      <th>113. What is your preferred music streaming application?</th>\n",
       "      <th>114. You're at one of your friends parties and it’s getting past the time you told your parents you were going to stay. Do you:</th>\n",
       "      <th>115. You are at a conference where you know nobody, what would you do?</th>\n",
       "      <th>116. You have completed a project of which you are satisfied. However, your TA is not convinced and points out what they think is wrong. What is your initial reaction?</th>\n",
       "      <th>117. If you don't know how to complete an assignment, what do you do first?</th>\n",
       "    </tr>\n",
       "  </thead>\n",
       "  <tbody>\n",
       "    <tr>\n",
       "      <th>0</th>\n",
       "      <td>11/3/2022 1:35:26</td>\n",
       "      <td>S-Z</td>\n",
       "      <td>22</td>\n",
       "      <td>Male</td>\n",
       "      <td>5 foot 7 inches</td>\n",
       "      <td>No</td>\n",
       "      <td>Asian</td>\n",
       "      <td>1st generation</td>\n",
       "      <td>1</td>\n",
       "      <td>2</td>\n",
       "      <td>...</td>\n",
       "      <td>0</td>\n",
       "      <td>No Preference</td>\n",
       "      <td>McDonalds</td>\n",
       "      <td>No Preference</td>\n",
       "      <td>Sprite</td>\n",
       "      <td>Youtube</td>\n",
       "      <td>Text your parents that you will be home later</td>\n",
       "      <td>Wait until someone approaches you</td>\n",
       "      <td>Go after hours and defend each point</td>\n",
       "      <td>Google it</td>\n",
       "    </tr>\n",
       "  </tbody>\n",
       "</table>\n",
       "<p>1 rows × 118 columns</p>\n",
       "</div>"
      ],
      "text/plain": [
       "           Timestamp  \\\n",
       "0  11/3/2022 1:35:26   \n",
       "\n",
       "  1. What is your last name initial? Please select the appropriate range. \\n\\n(Ex: Smith = Option 3)  \\\n",
       "0                                                S-Z                                                   \n",
       "\n",
       "  2. What is your age? 3. What gender do you identify as?  \\\n",
       "0                   22                               Male   \n",
       "\n",
       "  4. What is your approximate height? (Ex: 5'0\" - 5'5\")  \\\n",
       "0                                    5 foot 7 inches      \n",
       "\n",
       "  5. Do you wear prescription glasses or contacts?  \\\n",
       "0                                               No   \n",
       "\n",
       "  6. How would you best describe yourself?  \\\n",
       "0                                    Asian   \n",
       "\n",
       "  7. What generation immigrant are you? 8. How many siblings do you have?  \\\n",
       "0                        1st generation                                 1   \n",
       "\n",
       "  9. What birth order are you? (1 being the oldest)  ...  \\\n",
       "0                                                 2  ...   \n",
       "\n",
       "  108. If you answered the previous question, how many years of experience do you have?  \\\n",
       "0                                                  0                                      \n",
       "\n",
       "            Shoe 110. What is your preferred fast food restaurant?  \\\n",
       "0  No Preference                                         McDonalds   \n",
       "\n",
       "  111. What is your preferred phone brand? 112. What is your preferred soda?  \\\n",
       "0                            No Preference                            Sprite   \n",
       "\n",
       "  113. What is your preferred music streaming application?  \\\n",
       "0                                            Youtube         \n",
       "\n",
       "  114. You're at one of your friends parties and it’s getting past the time you told your parents you were going to stay. Do you:  \\\n",
       "0      Text your parents that you will be home later                                                                                \n",
       "\n",
       "  115. You are at a conference where you know nobody, what would you do?  \\\n",
       "0                  Wait until someone approaches you                       \n",
       "\n",
       "   116. You have completed a project of which you are satisfied. However, your TA is not convinced and points out what they think is wrong. What is your initial reaction?  \\\n",
       "0               Go after hours and defend each point                                                                                                                         \n",
       "\n",
       "  117. If you don't know how to complete an assignment, what do you do first?  \n",
       "0                                          Google it                           \n",
       "\n",
       "[1 rows x 118 columns]"
      ]
     },
     "execution_count": 18,
     "metadata": {},
     "output_type": "execute_result"
    }
   ],
   "source": [
    "import pandas as pd\n",
    "import matplotlib.pyplot as plt\n",
    "import seaborn as sns\n",
    "import numpy as np\n",
    "import plotly.express as px\n",
    "import plotly.graph_objects as go \n",
    "\n",
    "df = pd.read_csv(\"Responses.csv\")\n",
    "df.head(1)\n"
   ]
  },
  {
   "cell_type": "code",
   "execution_count": 16,
   "metadata": {},
   "outputs": [
    {
     "data": {
      "text/plain": [
       "No Preference         35\n",
       "Nike                  34\n",
       "Vans                  15\n",
       "Adidas                 8\n",
       "nan                    4\n",
       "Converse               3\n",
       "New Balance            2\n",
       "sketchers              1\n",
       "Asics                  1\n",
       "puma                   1\n",
       "Reeboks                1\n",
       "Puma                   1\n",
       "Shoes like pottery     1\n",
       "saucony                1\n",
       "Name: Shoe, dtype: int64"
      ]
     },
     "execution_count": 16,
     "metadata": {},
     "output_type": "execute_result"
    }
   ],
   "source": [
    "%matplotlib inline\n",
    "\n",
    "shoes = df.Shoe.astype(str)\n",
    "\n",
    "shoes.value_counts()"
   ]
  },
  {
   "cell_type": "code",
   "execution_count": 17,
   "metadata": {},
   "outputs": [
    {
     "data": {
      "text/plain": [
       "<AxesSubplot:>"
      ]
     },
     "execution_count": 17,
     "metadata": {},
     "output_type": "execute_result"
    },
    {
     "data": {
      "image/png": "[encoded data removed]",
      "text/plain": [
       "<Figure size 432x288 with 1 Axes>"
      ]
     },
     "metadata": {
      "needs_background": "light"
     },
     "output_type": "display_data"
    }
   ],
   "source": [
    "shoes.value_counts().plot(kind='bar')"
   ]
  },
  {
   "cell_type": "code",
   "execution_count": null,
   "metadata": {},
   "outputs": [],
   "source": []
  }
 ],
 "metadata": {
  "colab": {
   "collapsed_sections": [],
   "name": "1A. Distribution of First Digits.ipynb",
   "provenance": []
  },
  "kernelspec": {
   "display_name": "Python 3 (ipykernel)",
   "language": "python",
   "name": "python3"
  },
  "language_info": {
   "codemirror_mode": {
    "name": "ipython",
    "version": 3
   },
   "file_extension": ".py",
   "mimetype": "text/x-python",
   "name": "python",
   "nbconvert_exporter": "python",
   "pygments_lexer": "ipython3",
   "version": "3.9.12"
  }
 },
 "nbformat": 4,
 "nbformat_minor": 4
}
